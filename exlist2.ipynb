{
 "cells": [
  {
   "cell_type": "code",
   "execution_count": 1,
   "metadata": {},
   "outputs": [
    {
     "data": {
      "text/plain": [
       "(23.3,\n",
       " 3.0930028559098783,\n",
       " 22.0,\n",
       " 3.366501646120693,\n",
       " 0.8230234732471164,\n",
       " 0.4233866436341738)"
      ]
     },
     "execution_count": 1,
     "metadata": {},
     "output_type": "execute_result"
    }
   ],
   "source": [
    "\"\"\"\n",
    "5) São dados os valores de diâmetro das árvores (cm) para duas populações. Utilizando o Teste T para populações independentes, conclua sobre o crescimento dessas populações. \n",
    "\tPopulação A: 20 - 23 - 22 - 23 - 28 - 27 - 18 - 24 - 22 - 26 \n",
    "\tPopulação B: 17 - 24 - 23 - 20 - 19 - 26 - 25\n",
    "\"\"\"\n",
    "import numpy as np\n",
    "from scipy.stats import ttest_ind\n",
    "\n",
    "# Dados das populações\n",
    "populacao_a = np.array([20, 23, 22, 23, 28, 27, 18, 24, 22, 26])\n",
    "populacao_b = np.array([17, 24, 23, 20, 19, 26, 25])\n",
    "\n",
    "# Calculando médias e desvios padrão\n",
    "media_a = np.mean(populacao_a)\n",
    "desvio_a = np.std(populacao_a, ddof=1)  # Desvio padrão amostral\n",
    "media_b = np.mean(populacao_b)\n",
    "desvio_b = np.std(populacao_b, ddof=1)  # Desvio padrão amostral\n",
    "\n",
    "# Realizando o Teste T\n",
    "t_stat, p_value = ttest_ind(populacao_a, populacao_b, equal_var=True)\n",
    "\n",
    "media_a, desvio_a, media_b, desvio_b, t_stat, p_value\n",
    "\n"
   ]
  },
  {
   "cell_type": "code",
   "execution_count": 4,
   "metadata": {},
   "outputs": [
    {
     "name": "stdout",
     "output_type": "stream",
     "text": [
      "3.205204101665498\n",
      "0.8230234732471164\n"
     ]
    }
   ],
   "source": [
    "from math import sqrt\n",
    "\n",
    "def sp(n1, n2, s1, s2):\n",
    "    return sqrt(((n1 - 1) * s1 ** 2 + (n2 - 1) * s2 ** 2) / (n1 + n2 - 2))\n",
    "\n",
    "def t_test(n1, n2, x1, x2, s1, s2):\n",
    "    return (x1 - x2) / (sp(n1, n2, s1, s2) * sqrt(1 / n1 + 1 / n2))\n",
    "\n",
    "print(sp(10, 7, desvio_a, desvio_b))\n",
    "print(t_test(10, 7, media_a, media_b, desvio_a, desvio_b))"
   ]
  }
 ],
 "metadata": {
  "kernelspec": {
   "display_name": "venv",
   "language": "python",
   "name": "python3"
  },
  "language_info": {
   "codemirror_mode": {
    "name": "ipython",
    "version": 3
   },
   "file_extension": ".py",
   "mimetype": "text/x-python",
   "name": "python",
   "nbconvert_exporter": "python",
   "pygments_lexer": "ipython3",
   "version": "3.11.7"
  }
 },
 "nbformat": 4,
 "nbformat_minor": 2
}
