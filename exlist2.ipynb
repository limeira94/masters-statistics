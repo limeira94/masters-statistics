{
 "cells": [
  {
   "cell_type": "code",
   "execution_count": 1,
   "metadata": {},
   "outputs": [
    {
     "data": {
      "text/plain": [
       "(23.3,\n",
       " 3.0930028559098783,\n",
       " 22.0,\n",
       " 3.366501646120693,\n",
       " 0.8230234732471164,\n",
       " 0.4233866436341738)"
      ]
     },
     "execution_count": 1,
     "metadata": {},
     "output_type": "execute_result"
    }
   ],
   "source": [
    "\"\"\"\n",
    "5) São dados os valores de diâmetro das árvores (cm) para duas populações. Utilizando o Teste T para populações independentes, conclua sobre o crescimento dessas populações. \n",
    "\tPopulação A: 20 - 23 - 22 - 23 - 28 - 27 - 18 - 24 - 22 - 26 \n",
    "\tPopulação B: 17 - 24 - 23 - 20 - 19 - 26 - 25\n",
    "\"\"\"\n",
    "import numpy as np\n",
    "from scipy.stats import ttest_ind\n",
    "\n",
    "# Dados das populações\n",
    "populacao_a = np.array([20, 23, 22, 23, 28, 27, 18, 24, 22, 26])\n",
    "populacao_b = np.array([17, 24, 23, 20, 19, 26, 25])\n",
    "\n",
    "# Calculando médias e desvios padrão\n",
    "media_a = np.mean(populacao_a)\n",
    "desvio_a = np.std(populacao_a, ddof=1)  # Desvio padrão amostral\n",
    "media_b = np.mean(populacao_b)\n",
    "desvio_b = np.std(populacao_b, ddof=1)  # Desvio padrão amostral\n",
    "\n",
    "# Realizando o Teste T\n",
    "t_stat, p_value = ttest_ind(populacao_a, populacao_b, equal_var=True)\n",
    "\n",
    "media_a, desvio_a, media_b, desvio_b, t_stat, p_value\n",
    "\n"
   ]
  },
  {
   "cell_type": "code",
   "execution_count": 4,
   "metadata": {},
   "outputs": [
    {
     "name": "stdout",
     "output_type": "stream",
     "text": [
      "3.205204101665498\n",
      "0.8230234732471164\n"
     ]
    }
   ],
   "source": [
    "from math import sqrt\n",
    "\n",
    "def sp(n1, n2, s1, s2):\n",
    "    return sqrt(((n1 - 1) * s1 ** 2 + (n2 - 1) * s2 ** 2) / (n1 + n2 - 2))\n",
    "\n",
    "def t_test(n1, n2, x1, x2, s1, s2):\n",
    "    return (x1 - x2) / (sp(n1, n2, s1, s2) * sqrt(1 / n1 + 1 / n2))\n",
    "\n",
    "print(sp(10, 7, desvio_a, desvio_b))\n",
    "print(t_test(10, 7, media_a, media_b, desvio_a, desvio_b))"
   ]
  },
  {
   "cell_type": "code",
   "execution_count": 1,
   "metadata": {},
   "outputs": [
    {
     "name": "stdout",
     "output_type": "stream",
     "text": [
      "Amostras: [6.  7.5 7.  6.5 8.  9.  8.5]\n",
      "Média da amostra: 7.5\n",
      "Desvio padrão da amostra: 1.0801234497346435\n",
      "Tamanho da amostra: 7\n"
     ]
    },
    {
     "data": {
      "text/plain": [
       "(3.6742346141747673, 2.4469118511449692)"
      ]
     },
     "execution_count": 1,
     "metadata": {},
     "output_type": "execute_result"
    }
   ],
   "source": [
    "\"\"\"\n",
    "8) Em certa espécie de plantas ornamentais, o comprimento médio da semente\n",
    "é de 6 mm. Em uma nova variedade, os valores obtidos foram os indicados a\n",
    "seguir. Compare as duas variedades entre si quando ao comprimento das\n",
    "sementes (α = 0,05).\n",
    "x (mm): 6; 7,5; 7; 6,5; 8; 9; 8.5\n",
    "\"\"\"\n",
    "\n",
    "import numpy as np\n",
    "from scipy.stats import t\n",
    "\n",
    "# Dados da amostra\n",
    "amostra = np.array([6, 7.5, 7, 6.5, 8, 9, 8.5])\n",
    "print(f'Amostras: {amostra}')\n",
    "# Média da população conhecida (hipótese nula)\n",
    "mu_0 = 6\n",
    "\n",
    "# Cálculos necessários\n",
    "media_amostra = np.mean(amostra)\n",
    "desvio_padrao_amostra = np.std(amostra, ddof=1)\n",
    "tamanho_amostra = len(amostra)\n",
    "print(f'Média da amostra: {media_amostra}')\n",
    "print(f'Desvio padrão da amostra: {desvio_padrao_amostra}')\n",
    "print(f'Tamanho da amostra: {tamanho_amostra}')\n",
    "# Calculando o valor t\n",
    "t_calculado = (media_amostra - mu_0) / (desvio_padrao_amostra / np.sqrt(tamanho_amostra))\n",
    "\n",
    "# Graus de liberdade\n",
    "graus_liberdade = tamanho_amostra - 1\n",
    "\n",
    "# Valor t crítico para dois lados (α = 0,05)\n",
    "t_critico = t.ppf(1 - 0.025, graus_liberdade)  # Dois lados: 1 - (0.05 / 2)\n",
    "\n",
    "t_calculado, t_critico\n"
   ]
  },
  {
   "cell_type": "code",
   "execution_count": 1,
   "metadata": {},
   "outputs": [
    {
     "data": {
      "text/plain": [
       "(137.44, 8.081176677900643e-26)"
      ]
     },
     "execution_count": 1,
     "metadata": {},
     "output_type": "execute_result"
    }
   ],
   "source": [
    "\"\"\"\n",
    "10) Foi avaliado o número de ovos depositados pela borboleta “maria-boba” em\n",
    "plantas de maracujá, sendo concluído que houve uma variação mensal na\n",
    "ovoposição. Comprove essa conclusão com os dados a seguir, utilizando teste\n",
    "Qui-quadrado, alpha = 0,05. Considere probabilidade de ovoposição igual em todos\n",
    "os meses\n",
    "Mês: Mar Abr Mai Jun Jul Ago Set Out Nov Total\n",
    "Nº de ovos 17 4 28 39 3 1 0 1 32 125\n",
    "\"\"\"\n",
    "from scipy.stats import chisquare\n",
    "\n",
    "# Dados fornecidos sobre a distribuição de ovos por mês\n",
    "ovos_por_mes = [17, 4, 28, 39, 3, 1, 0, 1, 32]\n",
    "total_ovos = sum(ovos_por_mes)\n",
    "\n",
    "# Expectativa de distribuição uniforme, i.e., mesma quantidade de ovos por mês\n",
    "esperado_por_mes = [total_ovos / len(ovos_por_mes)] * len(ovos_por_mes)\n",
    "\n",
    "# Realizar o teste qui-quadrado\n",
    "chi2_stat, p_value = chisquare(f_obs=ovos_por_mes, f_exp=esperado_por_mes)\n",
    "chi2_stat, p_value"
   ]
  }
 ],
 "metadata": {
  "kernelspec": {
   "display_name": "venv",
   "language": "python",
   "name": "python3"
  },
  "language_info": {
   "codemirror_mode": {
    "name": "ipython",
    "version": 3
   },
   "file_extension": ".py",
   "mimetype": "text/x-python",
   "name": "python",
   "nbconvert_exporter": "python",
   "pygments_lexer": "ipython3",
   "version": "3.11.7"
  }
 },
 "nbformat": 4,
 "nbformat_minor": 2
}
